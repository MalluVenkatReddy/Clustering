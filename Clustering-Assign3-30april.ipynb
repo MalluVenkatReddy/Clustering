{
 "cells": [
  {
   "cell_type": "code",
   "execution_count": null,
   "id": "62f5ace1",
   "metadata": {},
   "outputs": [],
   "source": [
    "Q1. Explain the concept of homogeneity and completeness in clustering evaluation. How are they \n",
    "calculated?"
   ]
  },
  {
   "cell_type": "markdown",
   "id": "5a03e111",
   "metadata": {},
   "source": [
    "#### A clustering result satisfies homogeneity if all of its clusters contain only data points which are members of a single class. A clustering result satisfies completeness if all the data points that are members of a given class are elements of the same cluster."
   ]
  },
  {
   "cell_type": "markdown",
   "id": "995d3198",
   "metadata": {},
   "source": [
    "#### Homogeneity, completeness and V-measure can be computed at once using homogeneity_completeness_v_measure as follows:"
   ]
  },
  {
   "cell_type": "code",
   "execution_count": 16,
   "id": "db2de56b",
   "metadata": {},
   "outputs": [],
   "source": [
    "labels_true = [0, 0, 0, 1, 1, 1]\n",
    "labels_pred = [0, 0, 1, 1, 2, 2]"
   ]
  },
  {
   "cell_type": "code",
   "execution_count": 17,
   "id": "2520c526",
   "metadata": {},
   "outputs": [],
   "source": [
    "from sklearn import metrics"
   ]
  },
  {
   "cell_type": "code",
   "execution_count": 18,
   "id": "fe23d687",
   "metadata": {},
   "outputs": [
    {
     "data": {
      "text/plain": [
       "(0.6666666666666669, 0.420619835714305, 0.5158037429793889)"
      ]
     },
     "execution_count": 18,
     "metadata": {},
     "output_type": "execute_result"
    }
   ],
   "source": [
    "metrics.homogeneity_completeness_v_measure(labels_true, labels_pred)"
   ]
  },
  {
   "cell_type": "code",
   "execution_count": null,
   "id": "b08db2b7",
   "metadata": {},
   "outputs": [],
   "source": [
    "Q2. What is the V-measure in clustering evaluation? How is it related to homogeneity and completeness?"
   ]
  },
  {
   "cell_type": "markdown",
   "id": "2b5d1665",
   "metadata": {},
   "source": [
    "#### The V-measure is the harmonic mean between homogeneity and completeness"
   ]
  },
  {
   "cell_type": "code",
   "execution_count": 8,
   "id": "8a74570f",
   "metadata": {},
   "outputs": [
    {
     "data": {
      "image/png": "[encoded data removed]",
      "text/plain": [
       "<IPython.core.display.Image object>"
      ]
     },
     "execution_count": 8,
     "metadata": {},
     "output_type": "execute_result"
    }
   ],
   "source": [
    "from IPython import display\n",
    "display.Image(\"V-Measure.PNG\")"
   ]
  },
  {
   "cell_type": "code",
   "execution_count": null,
   "id": "408b6e26",
   "metadata": {},
   "outputs": [],
   "source": [
    "Q3. How is the Silhouette Coefficient used to evaluate the quality of a clustering result? What is the range \n",
    "of its values?"
   ]
  },
  {
   "cell_type": "markdown",
   "id": "89be2432",
   "metadata": {},
   "source": [
    "#### The silhouette value is a measure of how similar an object is to its own cluster (cohesion) compared to other clusters (separation). The silhouette ranges from −1 to +1, where a high value indicates that the object is well matched to its own cluster and poorly matched to neighboring clusters."
   ]
  },
  {
   "cell_type": "markdown",
   "id": "663dd9f3",
   "metadata": {},
   "source": [
    "#### Silhouette analysis can be used to study the separation distance between the resulting clusters. The silhouette plot displays a measure of how close each point in one cluster is to points in the neighboring clusters and thus provides a way to assess parameters like number of clusters visually."
   ]
  },
  {
   "cell_type": "markdown",
   "id": "a643bbbf",
   "metadata": {},
   "source": [
    "#### The silhouette value is a measure of how similar an object is to its own cluster (cohesion) compared to other clusters (separation). The silhouette ranges from −1 to +1, where a high value indicates that the object is well matched to its own cluster and poorly matched to neighboring clusters"
   ]
  },
  {
   "cell_type": "code",
   "execution_count": null,
   "id": "2c37a325",
   "metadata": {},
   "outputs": [],
   "source": [
    "Q4. How is the Davies-Bouldin Index used to evaluate the quality of a clustering result? What is the range \n",
    "of its values?"
   ]
  },
  {
   "cell_type": "markdown",
   "id": "a7618ad3",
   "metadata": {},
   "source": [
    "-- If the ground truth labels are not known, the Davies-Bouldin index (sklearn.metrics.davies_bouldin_score) can be used to evaluate the model, where a lower Davies-Bouldin index relates to a model with better separation between the clusters.\n",
    "\n",
    "-- This index signifies the average ‘similarity’ between clusters, where the similarity is a measure that compares the distance between clusters with the size of the clusters themselves."
   ]
  },
  {
   "cell_type": "markdown",
   "id": "0fb4ea62",
   "metadata": {},
   "source": [
    "-- The minimum Davies-Bouldin Index score is zero, and lower values indicate better clustering"
   ]
  },
  {
   "cell_type": "code",
   "execution_count": null,
   "id": "4f070433",
   "metadata": {},
   "outputs": [],
   "source": [
    "Q5. Can a clustering result have a high homogeneity but low completeness? Explain with an example."
   ]
  },
  {
   "cell_type": "markdown",
   "id": "d2f53379",
   "metadata": {},
   "source": [
    "#### Yes, high homogeneity but low completeness is possible, when each data point is in separate cluster."
   ]
  },
  {
   "cell_type": "code",
   "execution_count": null,
   "id": "88ece394",
   "metadata": {},
   "outputs": [],
   "source": [
    "Q6. How can the V-measure be used to determine the optimal number of clusters in a clustering \n",
    "algorithm?"
   ]
  },
  {
   "cell_type": "markdown",
   "id": "9e820c3c",
   "metadata": {},
   "source": [
    "#### V-measure is a measure between 0–1 that actually quantifies the goodness of the clustering partition. In fact, it requires that both homogeneity h and completeness c are maximised (NMI is 1 when both h and c are 1). Moreover if the clustering doesn’t satisfy any of the two conditions NMI will be zero."
   ]
  },
  {
   "cell_type": "markdown",
   "id": "41c89795",
   "metadata": {},
   "source": [
    "-- VScore should calculte by increasing number of cluseters and higher V-Score signifies and finalise the number of clusters."
   ]
  },
  {
   "cell_type": "code",
   "execution_count": null,
   "id": "c90664c3",
   "metadata": {},
   "outputs": [],
   "source": [
    "Q7. What are some advantages and disadvantages of using the Silhouette Coefficient to evaluate a \n",
    "clustering result?"
   ]
  },
  {
   "cell_type": "markdown",
   "id": "4db2a465",
   "metadata": {},
   "source": [
    "#### Advantages: Silhouette analysis can be used to study the separation distance between the resulting clusters and can be considered a better method compared to the Elbow method. Silhouette analysis also has added advantage to find the outliers if present in a cluster"
   ]
  },
  {
   "cell_type": "markdown",
   "id": "e4beb845",
   "metadata": {},
   "source": [
    "#### Disadvantages: The Silhouette Coefficient is generally higher for convex clusters than other concepts of clusters, such as density based clusters like those obtained through DBSCAN"
   ]
  },
  {
   "cell_type": "code",
   "execution_count": null,
   "id": "6adf6a36",
   "metadata": {},
   "outputs": [],
   "source": [
    "Q8. What are some limitations of the Davies-Bouldin Index as a clustering evaluation metric? How can \n",
    "they be overcome?"
   ]
  },
  {
   "cell_type": "markdown",
   "id": "7e84ffda",
   "metadata": {},
   "source": [
    "-- The Davies-Boulding index is generally higher for convex clusters than other concepts of clusters, such as density based clusters like those obtained from DBSCAN.\n",
    "\n",
    "-- The usage of centroid distance limits the distance metric to Euclidean space."
   ]
  },
  {
   "cell_type": "code",
   "execution_count": null,
   "id": "7e0221c3",
   "metadata": {},
   "outputs": [],
   "source": [
    "Q9. What is the relationship between homogeneity, completeness, and the V-measure? Can they have \n",
    "different values for the same clustering result?"
   ]
  },
  {
   "cell_type": "markdown",
   "id": "74e190e2",
   "metadata": {},
   "source": [
    "#### The V-measure is the harmonic mean between homogeneity and completeness"
   ]
  },
  {
   "cell_type": "code",
   "execution_count": 9,
   "id": "1a5172f5",
   "metadata": {},
   "outputs": [
    {
     "data": {
      "image/png": "[encoded data removed]",
      "text/plain": [
       "<IPython.core.display.Image object>"
      ]
     },
     "execution_count": 9,
     "metadata": {},
     "output_type": "execute_result"
    }
   ],
   "source": [
    "from IPython import display\n",
    "display.Image(\"V-Measure.PNG\")"
   ]
  },
  {
   "cell_type": "code",
   "execution_count": null,
   "id": "654bf40b",
   "metadata": {},
   "outputs": [],
   "source": [
    "Q10. How can the Silhouette Coefficient be used to compare the quality of different clustering algorithms \n",
    "on the same dataset? What are some potential issues to watch out for?"
   ]
  },
  {
   "cell_type": "markdown",
   "id": "62f48d7c",
   "metadata": {},
   "source": [
    "#### Higher the Silhouette Coefficient, better the clustering algorithms"
   ]
  },
  {
   "cell_type": "code",
   "execution_count": null,
   "id": "8b390a62",
   "metadata": {},
   "outputs": [],
   "source": [
    "Q11. How does the Davies-Bouldin Index measure the separation and compactness of clusters? What are \n",
    "some assumptions it makes about the data and the clusters?"
   ]
  },
  {
   "cell_type": "markdown",
   "id": "a24463a6",
   "metadata": {},
   "source": [
    "#### If the ground truth labels are not known, the Davies-Bouldin index (sklearn.metrics.davies_bouldin_score) can be used to evaluate the model, where a lower Davies-Bouldin index relates to a model with better separation between the clusters."
   ]
  },
  {
   "cell_type": "markdown",
   "id": "73d682bb",
   "metadata": {},
   "source": [
    "-- This index signifies the average ‘similarity’ between clusters, where the similarity is a measure that compares the distance between clusters with the size of the clusters themselves."
   ]
  },
  {
   "cell_type": "code",
   "execution_count": null,
   "id": "5441fb5b",
   "metadata": {},
   "outputs": [],
   "source": [
    "Q12. Can the Silhouette Coefficient be used to evaluate hierarchical clustering algorithms? If so, how?"
   ]
  },
  {
   "cell_type": "markdown",
   "id": "8dd84943",
   "metadata": {},
   "source": [
    "#### yes, we can use  Silhouette Coefficient to evaluate hierarchical clustering.\n",
    "\n",
    "-- near to 1 Silhouette Coefficient is better the model.\n",
    "\n",
    "-- near to -1 Silhouette Coefficient is worst the model.\n",
    "\n",
    "-- by changing numnbert of clusters, we can evaluate Silhouette Coefficient, and we can pick number of clusters at higher Silhouette Coefficient."
   ]
  }
 ],
 "metadata": {
  "kernelspec": {
   "display_name": "Python 3 (ipykernel)",
   "language": "python",
   "name": "python3"
  },
  "language_info": {
   "codemirror_mode": {
    "name": "ipython",
    "version": 3
   },
   "file_extension": ".py",
   "mimetype": "text/x-python",
   "name": "python",
   "nbconvert_exporter": "python",
   "pygments_lexer": "ipython3",
   "version": "3.9.13"
  }
 },
 "nbformat": 4,
 "nbformat_minor": 5
}
