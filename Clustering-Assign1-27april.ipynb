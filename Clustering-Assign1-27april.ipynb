{
 "cells": [
  {
   "cell_type": "code",
   "execution_count": null,
   "id": "2658f132",
   "metadata": {},
   "outputs": [],
   "source": [
    "Q1. What are the different types of clustering algorithms, and how do they differ in terms of their approach \n",
    "and underlying assumptions?"
   ]
  },
  {
   "cell_type": "markdown",
   "id": "ff55af64",
   "metadata": {},
   "source": [
    "#### different types and their approach of clustering algorithms are\n",
    "\n",
    "-- K-means clustering (Centroid-based methods)\n",
    "\n",
    "-- Hierarchial clustering (Connectivity based methods )\n",
    "\n",
    "-- DBSCAN Clustering (Density Models)"
   ]
  },
  {
   "cell_type": "code",
   "execution_count": null,
   "id": "11fc9460",
   "metadata": {},
   "outputs": [],
   "source": [
    "Q2.What is K-means clustering, and how does it work?"
   ]
  },
  {
   "cell_type": "markdown",
   "id": "f6ec85e3",
   "metadata": {},
   "source": [
    "#### K-means is a centroid-based clustering algorithm, where we calculate the distance between each data point and a centroid to assign it to a cluster. The goal is to identify the K number of groups in the dataset"
   ]
  },
  {
   "cell_type": "markdown",
   "id": "d817ab69",
   "metadata": {},
   "source": [
    "#### K-Means++ can be implemented in the following steps.\n",
    "\n",
    "-- Step 1: We randomly pick a data point as the first centroid.\n",
    "    \n",
    "-- Step 2: We compute the distance between the remaining points with the nearest centroid.\n",
    "    \n",
    "    \n",
    "-- Step 3: We pick the next centroid such that the probability of picking a given point as the centroid is proportional to the distance between this given point and its nearest chosen centroid. In other words, the farther a point is away from the chosen centroids, the more likely it will be picked as the next centroid.\n",
    "Repeat steps 2–3 until K centroids are picked."
   ]
  },
  {
   "cell_type": "code",
   "execution_count": null,
   "id": "ae9d19e1",
   "metadata": {},
   "outputs": [],
   "source": [
    "Q3. What are some advantages and limitations of K-means clustering compared to other clustering \n",
    "techniques?"
   ]
  },
  {
   "cell_type": "markdown",
   "id": "87bab563",
   "metadata": {},
   "source": [
    "#### It is very easy to understand and implement. If we have large number of variables then, K-means would be faster than Hierarchical clustering. On re-computation of centroids, an instance can change the cluster. Tighter clusters are formed with K-means as compared to Hierarchical clustering."
   ]
  },
  {
   "cell_type": "code",
   "execution_count": null,
   "id": "29af058c",
   "metadata": {},
   "outputs": [],
   "source": [
    "Q4. How do you determine the optimal number of clusters in K-means clustering, and what are some \n",
    "common methods for doing so?"
   ]
  },
  {
   "cell_type": "markdown",
   "id": "9137f8d4",
   "metadata": {},
   "source": [
    "#### The silhouette coefficient may provide a more objective means to determine the optimal number of clusters. This is done by simply calculating the silhouette coefficient over a range of k, & identifying the peak as optimum K"
   ]
  },
  {
   "cell_type": "code",
   "execution_count": null,
   "id": "bd1ebc37",
   "metadata": {},
   "outputs": [],
   "source": [
    "Q5. What are some applications of K-means clustering in real-world scenarios, and how has it been used \n",
    "to solve specific problems?"
   ]
  },
  {
   "cell_type": "markdown",
   "id": "5a0726e2",
   "metadata": {},
   "source": [
    "#### K-means clustering can be used in almost every domain, ranging from banking to recommendation engines, cyber security, document clustering to image segmentation. It is typically applied to data that has a smaller number of dimensions, is numeric, and is continuous"
   ]
  },
  {
   "cell_type": "code",
   "execution_count": null,
   "id": "4f9ada8d",
   "metadata": {},
   "outputs": [],
   "source": [
    "Q6. How do you interpret the output of a K-means clustering algorithm, and what insights can you derive \n",
    "from the resulting clusters?"
   ]
  },
  {
   "cell_type": "markdown",
   "id": "2e467c54",
   "metadata": {},
   "source": [
    "#### k-means clustering tries to group similar kinds of items in form of clusters. It finds the similarity between the items and groups them into the clusters"
   ]
  },
  {
   "cell_type": "code",
   "execution_count": null,
   "id": "012d37b3",
   "metadata": {},
   "outputs": [],
   "source": [
    "Q7. What are some common challenges in implementing K-means clustering, and how can you address \n",
    "them?"
   ]
  },
  {
   "cell_type": "markdown",
   "id": "5cd2d304",
   "metadata": {},
   "source": [
    "#### k-Means doesn't perform well if the clusters have varying sizes, different densities, or non-spherical shapes. Has to be run for a certain amount of iteration or it would produce a suboptimal result. Computationally expensive as distance is to be calculated from each centroid to all data points."
   ]
  }
 ],
 "metadata": {
  "kernelspec": {
   "display_name": "Python 3 (ipykernel)",
   "language": "python",
   "name": "python3"
  },
  "language_info": {
   "codemirror_mode": {
    "name": "ipython",
    "version": 3
   },
   "file_extension": ".py",
   "mimetype": "text/x-python",
   "name": "python",
   "nbconvert_exporter": "python",
   "pygments_lexer": "ipython3",
   "version": "3.9.13"
  }
 },
 "nbformat": 4,
 "nbformat_minor": 5
}
