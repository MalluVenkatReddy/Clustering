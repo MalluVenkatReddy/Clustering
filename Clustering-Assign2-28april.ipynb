{
 "cells": [
  {
   "cell_type": "code",
   "execution_count": null,
   "id": "67d9796f",
   "metadata": {},
   "outputs": [],
   "source": [
    "Q1. What is hierarchical clustering, and how is it different from other clustering techniques?"
   ]
  },
  {
   "cell_type": "markdown",
   "id": "1cc3363b",
   "metadata": {},
   "source": [
    "#### Hierarchical clustering, also known as hierarchical cluster analysis, is an algorithm that groups similar objects into groups called clusters. The endpoint is a set of clusters, where each cluster is distinct from each other cluster, and the objects within each cluster are broadly similar to each other"
   ]
  },
  {
   "cell_type": "code",
   "execution_count": null,
   "id": "806d2a4e",
   "metadata": {},
   "outputs": [],
   "source": [
    "Q2. What are the two main types of hierarchical clustering algorithms? Describe each in brief."
   ]
  },
  {
   "cell_type": "markdown",
   "id": "4a211487",
   "metadata": {},
   "source": [
    "#### two main types of hierarchical clustering algorithms:\n",
    "\n",
    "-- Agglomerative: Initially, each object is considered to be its own cluster. According to a particular procedure, the clusters are then merged step by step until a single cluster remains. \n",
    "    \n",
    "-- Divisive: The Divisive method is the opposite of the Agglomerative method."
   ]
  },
  {
   "cell_type": "code",
   "execution_count": null,
   "id": "59ab8aca",
   "metadata": {},
   "outputs": [],
   "source": [
    "Q3. How do you determine the distance between two clusters in hierarchical clustering, and what are the \n",
    "common distance metrics used?"
   ]
  },
  {
   "cell_type": "markdown",
   "id": "7c3c66dc",
   "metadata": {},
   "source": [
    "#### methiods to measure distance in hierarchical clustering:\n",
    "\n",
    "1. Min (Single) Linkage\n",
    "2. Max (Complete) Linkage\n",
    "3. Centroid Linkage\n",
    "4. Average Linkage\n",
    "5. Ward Linkage"
   ]
  },
  {
   "cell_type": "markdown",
   "id": "7a3807c4",
   "metadata": {},
   "source": [
    "-- ward's method is preferred more than others in clustering."
   ]
  },
  {
   "cell_type": "code",
   "execution_count": null,
   "id": "ea1deb11",
   "metadata": {},
   "outputs": [],
   "source": [
    "Q4. How do you determine the optimal number of clusters in hierarchical clustering, and what are some \n",
    "common methods used for this purpose?"
   ]
  },
  {
   "cell_type": "markdown",
   "id": "1ddd64d4",
   "metadata": {},
   "source": [
    "#### The number of clusters will be the number of vertical lines which are being intersected by the line drawn using the threshold."
   ]
  },
  {
   "cell_type": "markdown",
   "id": "7f929131",
   "metadata": {},
   "source": [
    "-- Select longest vertical line, such that no horizontal lines passes through it."
   ]
  },
  {
   "cell_type": "markdown",
   "id": "71ba6bbf",
   "metadata": {},
   "source": [
    "Q5. What are dendrograms in hierarchical clustering, and how are they useful in analyzing the results?"
   ]
  },
  {
   "cell_type": "markdown",
   "id": "6bd4d5dd",
   "metadata": {},
   "source": [
    "#### A dendrogram is a tree-like structure that explains the relationship between all the data points in the system"
   ]
  },
  {
   "cell_type": "markdown",
   "id": "1f052fe7",
   "metadata": {},
   "source": [
    "-- number of clusters will calculate by Selecting longest vertical line, such that no horizontal lines passes through it."
   ]
  },
  {
   "cell_type": "code",
   "execution_count": null,
   "id": "cdbe2e41",
   "metadata": {},
   "outputs": [],
   "source": [
    "Q6. Can hierarchical clustering be used for both numerical and categorical data? If yes, how are the \n",
    "distance metrics different for each type of data?"
   ]
  },
  {
   "cell_type": "markdown",
   "id": "0f1eb65f",
   "metadata": {},
   "source": [
    "#### hierarchical clustering be used for both numerical and categorical data"
   ]
  },
  {
   "cell_type": "code",
   "execution_count": null,
   "id": "ffead33d",
   "metadata": {},
   "outputs": [],
   "source": [
    "Ward Linkage is the best method to emasure distance:\n",
    "    \n",
    "The Ward approach analyzes the variance of the clusters rather than measuring distances directly, minimizing the variance between clusters.\n",
    "\n",
    "With the Ward method, the distance between two clusters is related to how much the sum of squares (SS) value will increase when combined.\n",
    "\n",
    "In other words, the Ward method attempts to minimize the sum of the squared distances of the points from the cluster centers. Compared to the distance-based measures described above, the Ward method is less susceptible to noise and outliers. Therefore, Ward's method is preferred more than others in clustering."
   ]
  },
  {
   "cell_type": "code",
   "execution_count": null,
   "id": "2131c474",
   "metadata": {},
   "outputs": [],
   "source": [
    "Q7. How can you use hierarchical clustering to identify outliers or anomalies in your data?"
   ]
  },
  {
   "cell_type": "markdown",
   "id": "eeaaec16",
   "metadata": {},
   "source": [
    "####  by using dendrogram outliers are found. The goal of the project is to detect the outlier and remove the outliers to make the clustering more reliable."
   ]
  }
 ],
 "metadata": {
  "kernelspec": {
   "display_name": "Python 3 (ipykernel)",
   "language": "python",
   "name": "python3"
  },
  "language_info": {
   "codemirror_mode": {
    "name": "ipython",
    "version": 3
   },
   "file_extension": ".py",
   "mimetype": "text/x-python",
   "name": "python",
   "nbconvert_exporter": "python",
   "pygments_lexer": "ipython3",
   "version": "3.9.13"
  }
 },
 "nbformat": 4,
 "nbformat_minor": 5
}
